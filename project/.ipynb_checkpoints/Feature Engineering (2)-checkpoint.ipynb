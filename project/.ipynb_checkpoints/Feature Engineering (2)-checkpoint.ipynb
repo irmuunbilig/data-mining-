{
 "cells": [
  {
   "cell_type": "markdown",
   "id": "43e261ff",
   "metadata": {},
   "source": [
    "# Feature Engineering"
   ]
  },
  {
   "cell_type": "code",
   "execution_count": 2,
   "id": "feaa313d",
   "metadata": {},
   "outputs": [],
   "source": [
    "# Import packages\n",
    "import pandas as pd\n",
    "import numpy as np"
   ]
  },
  {
   "cell_type": "markdown",
   "id": "99ca93b6",
   "metadata": {},
   "source": [
    "The **Pima Indians Diabetes Dataset** is a commonly used dataset for demonstrating machine learning and data mining techniques. It includes several features that are considered important for predicting the onset of diabetes. Before moving on to the feature selection methods, let's have a brief overview of the dataset:\n",
    "\n",
    "* Pregnancies: Number of times pregnant.\n",
    "* Glucose: Plasma glucose concentration 2 hours in an oral glucose tolerance test.\n",
    "* BloodPressure: Diastolic blood pressure (mm Hg).\n",
    "* SkinThickness: Triceps skinfold thickness (mm).\n",
    "* Insulin: 2-Hour serum insulin (mu U/ml).\n",
    "* BMI: Body mass index (weight in kg/(height in m)^2).\n",
    "* DiabetesPedigreeFunction: Diabetes pedigree function (a function which scores likelihood of diabetes based on family history).\n",
    "* Age: Age in years.\n",
    "* Outcome: Class variable (0 or 1) where 1 indicates diabetes and 0 indicates no diabetes."
   ]
  },
  {
   "cell_type": "code",
   "execution_count": 3,
   "id": "43171a8e",
   "metadata": {},
   "outputs": [
    {
     "data": {
      "text/html": [
       "<div>\n",
       "<style scoped>\n",
       "    .dataframe tbody tr th:only-of-type {\n",
       "        vertical-align: middle;\n",
       "    }\n",
       "\n",
       "    .dataframe tbody tr th {\n",
       "        vertical-align: top;\n",
       "    }\n",
       "\n",
       "    .dataframe thead th {\n",
       "        text-align: right;\n",
       "    }\n",
       "</style>\n",
       "<table border=\"1\" class=\"dataframe\">\n",
       "  <thead>\n",
       "    <tr style=\"text-align: right;\">\n",
       "      <th></th>\n",
       "      <th>Pregnancies</th>\n",
       "      <th>Glucose</th>\n",
       "      <th>BloodPressure</th>\n",
       "      <th>SkinThickness</th>\n",
       "      <th>Insulin</th>\n",
       "      <th>BMI</th>\n",
       "      <th>DiabetesPedigreeFunction</th>\n",
       "      <th>Age</th>\n",
       "      <th>Outcome</th>\n",
       "    </tr>\n",
       "  </thead>\n",
       "  <tbody>\n",
       "    <tr>\n",
       "      <th>0</th>\n",
       "      <td>6</td>\n",
       "      <td>148</td>\n",
       "      <td>72</td>\n",
       "      <td>35</td>\n",
       "      <td>0</td>\n",
       "      <td>33.6</td>\n",
       "      <td>0.627</td>\n",
       "      <td>50</td>\n",
       "      <td>1</td>\n",
       "    </tr>\n",
       "    <tr>\n",
       "      <th>1</th>\n",
       "      <td>1</td>\n",
       "      <td>85</td>\n",
       "      <td>66</td>\n",
       "      <td>29</td>\n",
       "      <td>0</td>\n",
       "      <td>26.6</td>\n",
       "      <td>0.351</td>\n",
       "      <td>31</td>\n",
       "      <td>0</td>\n",
       "    </tr>\n",
       "    <tr>\n",
       "      <th>2</th>\n",
       "      <td>8</td>\n",
       "      <td>183</td>\n",
       "      <td>64</td>\n",
       "      <td>0</td>\n",
       "      <td>0</td>\n",
       "      <td>23.3</td>\n",
       "      <td>0.672</td>\n",
       "      <td>32</td>\n",
       "      <td>1</td>\n",
       "    </tr>\n",
       "    <tr>\n",
       "      <th>3</th>\n",
       "      <td>1</td>\n",
       "      <td>89</td>\n",
       "      <td>66</td>\n",
       "      <td>23</td>\n",
       "      <td>94</td>\n",
       "      <td>28.1</td>\n",
       "      <td>0.167</td>\n",
       "      <td>21</td>\n",
       "      <td>0</td>\n",
       "    </tr>\n",
       "    <tr>\n",
       "      <th>4</th>\n",
       "      <td>0</td>\n",
       "      <td>137</td>\n",
       "      <td>40</td>\n",
       "      <td>35</td>\n",
       "      <td>168</td>\n",
       "      <td>43.1</td>\n",
       "      <td>2.288</td>\n",
       "      <td>33</td>\n",
       "      <td>1</td>\n",
       "    </tr>\n",
       "  </tbody>\n",
       "</table>\n",
       "</div>"
      ],
      "text/plain": [
       "   Pregnancies  Glucose  BloodPressure  SkinThickness  Insulin   BMI  \\\n",
       "0            6      148             72             35        0  33.6   \n",
       "1            1       85             66             29        0  26.6   \n",
       "2            8      183             64              0        0  23.3   \n",
       "3            1       89             66             23       94  28.1   \n",
       "4            0      137             40             35      168  43.1   \n",
       "\n",
       "   DiabetesPedigreeFunction  Age  Outcome  \n",
       "0                     0.627   50        1  \n",
       "1                     0.351   31        0  \n",
       "2                     0.672   32        1  \n",
       "3                     0.167   21        0  \n",
       "4                     2.288   33        1  "
      ]
     },
     "execution_count": 3,
     "metadata": {},
     "output_type": "execute_result"
    }
   ],
   "source": [
    "# Load the dataset\n",
    "file_path = '/Users/simona/Desktop/IRIB/Lezioni Data Science/2023/Lab07/diabetes.csv'\n",
    "df = pd.read_csv(file_path)\n",
    "\n",
    "# Displaying the first few rows of the dataset\n",
    "df.head()"
   ]
  },
  {
   "cell_type": "code",
   "execution_count": 4,
   "id": "d6558c73",
   "metadata": {},
   "outputs": [
    {
     "data": {
      "text/plain": [
       "(768, 9)"
      ]
     },
     "execution_count": 4,
     "metadata": {},
     "output_type": "execute_result"
    }
   ],
   "source": [
    "df.shape"
   ]
  },
  {
   "cell_type": "code",
   "execution_count": 5,
   "id": "457fba3f",
   "metadata": {},
   "outputs": [
    {
     "data": {
      "text/plain": [
       "Pregnancies                 0\n",
       "Glucose                     0\n",
       "BloodPressure               0\n",
       "SkinThickness               0\n",
       "Insulin                     0\n",
       "BMI                         0\n",
       "DiabetesPedigreeFunction    0\n",
       "Age                         0\n",
       "Outcome                     0\n",
       "dtype: int64"
      ]
     },
     "execution_count": 5,
     "metadata": {},
     "output_type": "execute_result"
    }
   ],
   "source": [
    "# Addressing missing data\n",
    "df.isnull().sum()"
   ]
  },
  {
   "cell_type": "code",
   "execution_count": 6,
   "id": "36b90388",
   "metadata": {},
   "outputs": [
    {
     "data": {
      "text/html": [
       "<div>\n",
       "<style scoped>\n",
       "    .dataframe tbody tr th:only-of-type {\n",
       "        vertical-align: middle;\n",
       "    }\n",
       "\n",
       "    .dataframe tbody tr th {\n",
       "        vertical-align: top;\n",
       "    }\n",
       "\n",
       "    .dataframe thead th {\n",
       "        text-align: right;\n",
       "    }\n",
       "</style>\n",
       "<table border=\"1\" class=\"dataframe\">\n",
       "  <thead>\n",
       "    <tr style=\"text-align: right;\">\n",
       "      <th></th>\n",
       "      <th>Pregnancies</th>\n",
       "      <th>Glucose</th>\n",
       "      <th>BloodPressure</th>\n",
       "      <th>SkinThickness</th>\n",
       "      <th>Insulin</th>\n",
       "      <th>BMI</th>\n",
       "      <th>DiabetesPedigreeFunction</th>\n",
       "      <th>Age</th>\n",
       "      <th>Outcome</th>\n",
       "    </tr>\n",
       "  </thead>\n",
       "  <tbody>\n",
       "    <tr>\n",
       "      <th>count</th>\n",
       "      <td>768.000000</td>\n",
       "      <td>768.000000</td>\n",
       "      <td>768.000000</td>\n",
       "      <td>768.000000</td>\n",
       "      <td>768.000000</td>\n",
       "      <td>768.000000</td>\n",
       "      <td>768.000000</td>\n",
       "      <td>768.000000</td>\n",
       "      <td>768.000000</td>\n",
       "    </tr>\n",
       "    <tr>\n",
       "      <th>mean</th>\n",
       "      <td>3.845052</td>\n",
       "      <td>120.894531</td>\n",
       "      <td>69.105469</td>\n",
       "      <td>20.536458</td>\n",
       "      <td>79.799479</td>\n",
       "      <td>31.992578</td>\n",
       "      <td>0.471876</td>\n",
       "      <td>33.240885</td>\n",
       "      <td>0.348958</td>\n",
       "    </tr>\n",
       "    <tr>\n",
       "      <th>std</th>\n",
       "      <td>3.369578</td>\n",
       "      <td>31.972618</td>\n",
       "      <td>19.355807</td>\n",
       "      <td>15.952218</td>\n",
       "      <td>115.244002</td>\n",
       "      <td>7.884160</td>\n",
       "      <td>0.331329</td>\n",
       "      <td>11.760232</td>\n",
       "      <td>0.476951</td>\n",
       "    </tr>\n",
       "    <tr>\n",
       "      <th>min</th>\n",
       "      <td>0.000000</td>\n",
       "      <td>0.000000</td>\n",
       "      <td>0.000000</td>\n",
       "      <td>0.000000</td>\n",
       "      <td>0.000000</td>\n",
       "      <td>0.000000</td>\n",
       "      <td>0.078000</td>\n",
       "      <td>21.000000</td>\n",
       "      <td>0.000000</td>\n",
       "    </tr>\n",
       "    <tr>\n",
       "      <th>25%</th>\n",
       "      <td>1.000000</td>\n",
       "      <td>99.000000</td>\n",
       "      <td>62.000000</td>\n",
       "      <td>0.000000</td>\n",
       "      <td>0.000000</td>\n",
       "      <td>27.300000</td>\n",
       "      <td>0.243750</td>\n",
       "      <td>24.000000</td>\n",
       "      <td>0.000000</td>\n",
       "    </tr>\n",
       "    <tr>\n",
       "      <th>50%</th>\n",
       "      <td>3.000000</td>\n",
       "      <td>117.000000</td>\n",
       "      <td>72.000000</td>\n",
       "      <td>23.000000</td>\n",
       "      <td>30.500000</td>\n",
       "      <td>32.000000</td>\n",
       "      <td>0.372500</td>\n",
       "      <td>29.000000</td>\n",
       "      <td>0.000000</td>\n",
       "    </tr>\n",
       "    <tr>\n",
       "      <th>75%</th>\n",
       "      <td>6.000000</td>\n",
       "      <td>140.250000</td>\n",
       "      <td>80.000000</td>\n",
       "      <td>32.000000</td>\n",
       "      <td>127.250000</td>\n",
       "      <td>36.600000</td>\n",
       "      <td>0.626250</td>\n",
       "      <td>41.000000</td>\n",
       "      <td>1.000000</td>\n",
       "    </tr>\n",
       "    <tr>\n",
       "      <th>max</th>\n",
       "      <td>17.000000</td>\n",
       "      <td>199.000000</td>\n",
       "      <td>122.000000</td>\n",
       "      <td>99.000000</td>\n",
       "      <td>846.000000</td>\n",
       "      <td>67.100000</td>\n",
       "      <td>2.420000</td>\n",
       "      <td>81.000000</td>\n",
       "      <td>1.000000</td>\n",
       "    </tr>\n",
       "  </tbody>\n",
       "</table>\n",
       "</div>"
      ],
      "text/plain": [
       "       Pregnancies     Glucose  BloodPressure  SkinThickness     Insulin  \\\n",
       "count   768.000000  768.000000     768.000000     768.000000  768.000000   \n",
       "mean      3.845052  120.894531      69.105469      20.536458   79.799479   \n",
       "std       3.369578   31.972618      19.355807      15.952218  115.244002   \n",
       "min       0.000000    0.000000       0.000000       0.000000    0.000000   \n",
       "25%       1.000000   99.000000      62.000000       0.000000    0.000000   \n",
       "50%       3.000000  117.000000      72.000000      23.000000   30.500000   \n",
       "75%       6.000000  140.250000      80.000000      32.000000  127.250000   \n",
       "max      17.000000  199.000000     122.000000      99.000000  846.000000   \n",
       "\n",
       "              BMI  DiabetesPedigreeFunction         Age     Outcome  \n",
       "count  768.000000                768.000000  768.000000  768.000000  \n",
       "mean    31.992578                  0.471876   33.240885    0.348958  \n",
       "std      7.884160                  0.331329   11.760232    0.476951  \n",
       "min      0.000000                  0.078000   21.000000    0.000000  \n",
       "25%     27.300000                  0.243750   24.000000    0.000000  \n",
       "50%     32.000000                  0.372500   29.000000    0.000000  \n",
       "75%     36.600000                  0.626250   41.000000    1.000000  \n",
       "max     67.100000                  2.420000   81.000000    1.000000  "
      ]
     },
     "execution_count": 6,
     "metadata": {},
     "output_type": "execute_result"
    }
   ],
   "source": [
    "# Basic Statistics\n",
    "df.describe()"
   ]
  },
  {
   "cell_type": "markdown",
   "id": "12ac0f2a",
   "metadata": {},
   "source": [
    "**Zero Values in Certain Columns:**\n",
    "* Columns like Glucose, BloodPressure, SkinThickness, Insulin, and BMI have minimum values of zero, which are biologically implausible for these measurements. These zero values may indicate missing or unrecorded data.\n",
    "* We'll replace them with the median of their respective columns. "
   ]
  },
  {
   "cell_type": "code",
   "execution_count": 7,
   "id": "a48ba180",
   "metadata": {},
   "outputs": [
    {
     "data": {
      "text/html": [
       "<div>\n",
       "<style scoped>\n",
       "    .dataframe tbody tr th:only-of-type {\n",
       "        vertical-align: middle;\n",
       "    }\n",
       "\n",
       "    .dataframe tbody tr th {\n",
       "        vertical-align: top;\n",
       "    }\n",
       "\n",
       "    .dataframe thead th {\n",
       "        text-align: right;\n",
       "    }\n",
       "</style>\n",
       "<table border=\"1\" class=\"dataframe\">\n",
       "  <thead>\n",
       "    <tr style=\"text-align: right;\">\n",
       "      <th></th>\n",
       "      <th>Pregnancies</th>\n",
       "      <th>Glucose</th>\n",
       "      <th>BloodPressure</th>\n",
       "      <th>SkinThickness</th>\n",
       "      <th>Insulin</th>\n",
       "      <th>BMI</th>\n",
       "      <th>DiabetesPedigreeFunction</th>\n",
       "      <th>Age</th>\n",
       "      <th>Outcome</th>\n",
       "    </tr>\n",
       "  </thead>\n",
       "  <tbody>\n",
       "    <tr>\n",
       "      <th>0</th>\n",
       "      <td>6</td>\n",
       "      <td>148.0</td>\n",
       "      <td>72.0</td>\n",
       "      <td>35.0</td>\n",
       "      <td>125.0</td>\n",
       "      <td>33.6</td>\n",
       "      <td>0.627</td>\n",
       "      <td>50</td>\n",
       "      <td>1</td>\n",
       "    </tr>\n",
       "    <tr>\n",
       "      <th>1</th>\n",
       "      <td>1</td>\n",
       "      <td>85.0</td>\n",
       "      <td>66.0</td>\n",
       "      <td>29.0</td>\n",
       "      <td>125.0</td>\n",
       "      <td>26.6</td>\n",
       "      <td>0.351</td>\n",
       "      <td>31</td>\n",
       "      <td>0</td>\n",
       "    </tr>\n",
       "    <tr>\n",
       "      <th>2</th>\n",
       "      <td>8</td>\n",
       "      <td>183.0</td>\n",
       "      <td>64.0</td>\n",
       "      <td>29.0</td>\n",
       "      <td>125.0</td>\n",
       "      <td>23.3</td>\n",
       "      <td>0.672</td>\n",
       "      <td>32</td>\n",
       "      <td>1</td>\n",
       "    </tr>\n",
       "    <tr>\n",
       "      <th>3</th>\n",
       "      <td>1</td>\n",
       "      <td>89.0</td>\n",
       "      <td>66.0</td>\n",
       "      <td>23.0</td>\n",
       "      <td>94.0</td>\n",
       "      <td>28.1</td>\n",
       "      <td>0.167</td>\n",
       "      <td>21</td>\n",
       "      <td>0</td>\n",
       "    </tr>\n",
       "    <tr>\n",
       "      <th>4</th>\n",
       "      <td>0</td>\n",
       "      <td>137.0</td>\n",
       "      <td>40.0</td>\n",
       "      <td>35.0</td>\n",
       "      <td>168.0</td>\n",
       "      <td>43.1</td>\n",
       "      <td>2.288</td>\n",
       "      <td>33</td>\n",
       "      <td>1</td>\n",
       "    </tr>\n",
       "  </tbody>\n",
       "</table>\n",
       "</div>"
      ],
      "text/plain": [
       "   Pregnancies  Glucose  BloodPressure  SkinThickness  Insulin   BMI  \\\n",
       "0            6    148.0           72.0           35.0    125.0  33.6   \n",
       "1            1     85.0           66.0           29.0    125.0  26.6   \n",
       "2            8    183.0           64.0           29.0    125.0  23.3   \n",
       "3            1     89.0           66.0           23.0     94.0  28.1   \n",
       "4            0    137.0           40.0           35.0    168.0  43.1   \n",
       "\n",
       "   DiabetesPedigreeFunction  Age  Outcome  \n",
       "0                     0.627   50        1  \n",
       "1                     0.351   31        0  \n",
       "2                     0.672   32        1  \n",
       "3                     0.167   21        0  \n",
       "4                     2.288   33        1  "
      ]
     },
     "execution_count": 7,
     "metadata": {},
     "output_type": "execute_result"
    }
   ],
   "source": [
    "# Addressing Zero values\n",
    "from sklearn.impute import SimpleImputer\n",
    "\n",
    "# Replacing 0 values with NaN in columns where 0 is not realistic\n",
    "columns_with_zeros = ['Glucose', 'BloodPressure', 'SkinThickness', 'Insulin', 'BMI']\n",
    "df[columns_with_zeros] = df[columns_with_zeros].replace(0, np.nan)\n",
    "\n",
    "# Imputing the missing values using median\n",
    "imputer = SimpleImputer(strategy='median')\n",
    "df[columns_with_zeros] = imputer.fit_transform(df[columns_with_zeros])\n",
    "\n",
    "# Display the first few rows after imputation\n",
    "df.head()"
   ]
  },
  {
   "cell_type": "markdown",
   "id": "4aca16b6",
   "metadata": {},
   "source": [
    "# Feature Selection\n",
    "FS is the process of reducing the number of features of our dataset by selecting a subset of most relevant predicting features.\n",
    "\n",
    "Sklearn documentation:\n",
    "https://scikit-learn.org/stable/modules/feature_selection.html"
   ]
  },
  {
   "cell_type": "code",
   "execution_count": 8,
   "id": "17072bc6",
   "metadata": {},
   "outputs": [],
   "source": [
    "X = df.drop('Outcome', axis=1)\n",
    "y = df['Outcome']"
   ]
  },
  {
   "cell_type": "markdown",
   "id": "dea8b5e7",
   "metadata": {},
   "source": [
    "# 1. Filter Methods\n",
    "Filter methods use statistical techniques to evaluate the importance of features and select those that have the strongest relationships with the output variable. Common filter methods include:\n",
    "* Correlation Coefficient: Measures the linear relationship between two features.\n",
    "* Univariate Selection: It uses statistical tests (like the chi-squared test) to select those features that have the strongest relationship with the output variable."
   ]
  },
  {
   "cell_type": "markdown",
   "id": "2550ee75",
   "metadata": {},
   "source": [
    "## Correlation Analysis\n",
    "* Quantifying the degree to which variables are dependent upon each other is important because multicollinearity can deteriorate the performance of our ML algorithm.\n",
    "* We are also interested in the correlation between input variables and the output, in order to understand which variables may or may not be relevant as input for developing a model.\n",
    "* Good variables are **highly correlated with the target**, but they are **not correlated among themself**. If two features are correlated, the model will need only one of them."
   ]
  },
  {
   "cell_type": "markdown",
   "id": "0d186bfa",
   "metadata": {},
   "source": [
    "#### This method ranks features based on their correlation with the outcome. Higher absolute values indicate stronger relationships."
   ]
  },
  {
   "cell_type": "code",
   "execution_count": 10,
   "id": "7ff5d9e0",
   "metadata": {},
   "outputs": [],
   "source": [
    "# Displaying correlation values with the 'Outcome' column\n",
    "# Function for Pearson Correlation\n",
    "def pearson_corr(X, y):\n",
    "    correlations = []\n",
    "    for i in X.columns:\n",
    "        corr, _ = pearsonr(X[i], y)\n",
    "        correlations.append((i, corr))\n",
    "    correlations.sort(key=lambda x: abs(x[1]), reverse=True)\n",
    "    return correlations"
   ]
  },
  {
   "cell_type": "code",
   "execution_count": 11,
   "id": "c7761fbf",
   "metadata": {},
   "outputs": [],
   "source": [
    "from scipy.stats import pearsonr\n",
    "# Pearson Correlation\n",
    "pearson_results = pearson_corr(X, y)"
   ]
  },
  {
   "cell_type": "code",
   "execution_count": 30,
   "id": "59af691c",
   "metadata": {},
   "outputs": [
    {
     "data": {
      "image/png": "[encoded data removed]",
      "text/plain": [
       "<Figure size 1000x800 with 1 Axes>"
      ]
     },
     "metadata": {},
     "output_type": "display_data"
    }
   ],
   "source": [
    "pearson_scores = [abs(item[1]) for item in pearson_results]\n",
    "plt.figure(figsize=(10,8))\n",
    "plt.bar(X.columns, pearson_scores, color='blue',alpha=0.5)\n",
    "plt.title('Pearson Correlation Coefficients')\n",
    "plt.ylabel('Absolute Coefficient')\n",
    "plt.xticks(rotation=45)\n",
    "plt.show()"
   ]
  },
  {
   "cell_type": "markdown",
   "id": "2bee0eec",
   "metadata": {},
   "source": [
    "**Observations:**\n",
    "* Glucose has the highest positive correlation (0.49) with the outcome, indicating a strong relationship.\n",
    "* BMI, Age, Pregnancies, SkinThickness, and Insulin also show positive correlations, though weaker than Glucose.\n",
    "* DiabetesPedigreeFunction and BloodPressure have the lowest correlations with the outcome, but they are still positive."
   ]
  },
  {
   "cell_type": "markdown",
   "id": "49265b92",
   "metadata": {},
   "source": [
    "## Univariate Selection"
   ]
  },
  {
   "cell_type": "markdown",
   "id": "d32b422a",
   "metadata": {},
   "source": [
    "## SelectkBest - Chi-squared"
   ]
  },
  {
   "cell_type": "code",
   "execution_count": 21,
   "id": "a106d854",
   "metadata": {},
   "outputs": [
    {
     "data": {
      "image/png": "[encoded data removed]",
      "text/plain": [
       "<Figure size 1000x800 with 1 Axes>"
      ]
     },
     "metadata": {},
     "output_type": "display_data"
    }
   ],
   "source": [
    "from sklearn.feature_selection import SelectKBest\n",
    "from sklearn.feature_selection import chi2\n",
    "\n",
    "# Apply SelectKBest\n",
    "bestfeatures = SelectKBest(score_func=chi2, k='all')\n",
    "fit = bestfeatures.fit(X, y)\n",
    "\n",
    "# Get scores for each feature\n",
    "dfscores = pd.DataFrame(fit.scores_)\n",
    "dfcolumns = pd.DataFrame(X.columns)\n",
    "\n",
    "# Concatenate two dataframes for better visualization \n",
    "featureScores = pd.concat([dfcolumns, dfscores], axis=1)\n",
    "featureScores.columns = ['Feature', 'Score']\n",
    "featureScores = featureScores.sort_values(by='Score',ascending=False)\n",
    "\n",
    "plt.figure(figsize=(10,8))\n",
    "plt.bar(featureScores['Feature'], featureScores['Score'], color='green',alpha=0.5)\n",
    "plt.title('Chi-squared scores')\n",
    "plt.ylabel('Score')\n",
    "plt.xticks(rotation=45)\n",
    "plt.show()"
   ]
  },
  {
   "cell_type": "markdown",
   "id": "fdc58de3",
   "metadata": {},
   "source": [
    "## SelectkBest - ANOVA F-score"
   ]
  },
  {
   "cell_type": "code",
   "execution_count": 14,
   "id": "2f41227f",
   "metadata": {},
   "outputs": [],
   "source": [
    "from sklearn.feature_selection import f_classif"
   ]
  },
  {
   "cell_type": "code",
   "execution_count": 31,
   "id": "99f45f96",
   "metadata": {},
   "outputs": [],
   "source": [
    "# ANOVA F-test\n",
    "f_selector = SelectKBest(score_func=f_classif, k='all')\n",
    "f_selector.fit(X, y)\n",
    "f_scores = f_selector.scores_"
   ]
  },
  {
   "cell_type": "code",
   "execution_count": 35,
   "id": "29549360",
   "metadata": {},
   "outputs": [
    {
     "data": {
      "image/png": "[encoded data removed]",
      "text/plain": [
       "<Figure size 1000x800 with 1 Axes>"
      ]
     },
     "metadata": {},
     "output_type": "display_data"
    }
   ],
   "source": [
    "ftest_selected = pd.DataFrame({'Feature':list(X.columns),'Score':f_scores})\n",
    "ftest_selected = ftest_selected.sort_values(by='Score',ascending=False)\n",
    "\n",
    "plt.figure(figsize=(10,8))\n",
    "plt.bar(ftest_selected['Feature'], ftest_selected['Score'], color='red',alpha=0.5)\n",
    "plt.title('ANOVA F-test Scores')\n",
    "plt.ylabel('Score')\n",
    "plt.xticks(rotation=45)\n",
    "plt.show()"
   ]
  },
  {
   "cell_type": "markdown",
   "id": "425909fe",
   "metadata": {},
   "source": [
    "# 2. Wrapper Methods\n",
    "* Recursive Feature Elimination (RFE): This method recursively removes the least important features based on the model's weights or feature importances.\n",
    "* Forward Selection: This method starts with no features and adds them one by one based on their significance in improving the model performance.\n",
    "* Backward Elimination: This method starts with all the features and removes the least significant feature at each step, based on model performance."
   ]
  },
  {
   "cell_type": "markdown",
   "id": "48d2979d",
   "metadata": {},
   "source": [
    "## Recursive Feature Elimination (RFE)\n",
    "The goal of recursive feature elimination (RFE) is to select features by recursively considering smaller and smaller sets of features.\n",
    "* It works by recursively removing attributes and building a model on those attributes that remain.\n",
    "* It uses the model accuracy to identify which attributes (and combination of attributes) contribute the most predicting the target.\n",
    "\n",
    "https://scikit-learn.org/stable/modules/generated/sklearn.feature_selection.RFE.html#sklearn.feature_selection.RFE"
   ]
  },
  {
   "cell_type": "code",
   "execution_count": 36,
   "id": "5a704d92",
   "metadata": {},
   "outputs": [
    {
     "name": "stdout",
     "output_type": "stream",
     "text": [
      "Num Features: 5\n",
      "Selected Features: [ True  True False False False  True  True  True]\n",
      "Feature Ranking: [1 1 2 3 4 1 1 1]\n"
     ]
    }
   ],
   "source": [
    "from sklearn.feature_selection import RFE\n",
    "from sklearn.linear_model import LogisticRegression\n",
    "\n",
    "model = LogisticRegression(solver='lbfgs',max_iter=2000)\n",
    "\n",
    "# Initializing RFE model\n",
    "rfe = RFE(estimator = model,n_features_to_select= 5)  # selecting 5 features\n",
    "fit = rfe.fit(X, y)\n",
    "\n",
    "# summarize the selection of the attributes\n",
    "print(\"Num Features: %s\" % (fit.n_features_))\n",
    "print(\"Selected Features: %s\" % (fit.support_))\n",
    "print(\"Feature Ranking: %s\" % (fit.ranking_))"
   ]
  },
  {
   "cell_type": "code",
   "execution_count": 37,
   "id": "ff367bba",
   "metadata": {},
   "outputs": [
    {
     "data": {
      "text/plain": [
       "Index(['Pregnancies', 'Glucose', 'BMI', 'DiabetesPedigreeFunction', 'Age'], dtype='object')"
      ]
     },
     "execution_count": 37,
     "metadata": {},
     "output_type": "execute_result"
    }
   ],
   "source": [
    "X.columns[rfe.get_support()==True] # selected features"
   ]
  },
  {
   "cell_type": "markdown",
   "id": "c3837b73",
   "metadata": {},
   "source": [
    "* These features were selected by RFE as the top 5 features for predicting the outcome in the Pima Indians Diabetes dataset.\n",
    "* The ranks indicate the order in which the features were removed, with rank 1 being the most important (or last removed). Features with 'Selected' as True are those chosen by RFE as the most relevant."
   ]
  },
  {
   "cell_type": "markdown",
   "id": "fce5f6ab",
   "metadata": {},
   "source": [
    "## Sequential Feature Selector (forward or backward)\n",
    "* At each stage, this estimator chooses the best feature to add or remove based on the cross-validation score of an estimator. \n",
    "https://scikit-learn.org/stable/modules/generated/sklearn.feature_selection.SequentialFeatureSelector.html#sklearn.feature_selection.SequentialFeatureSelector"
   ]
  },
  {
   "cell_type": "code",
   "execution_count": 75,
   "id": "50020b07",
   "metadata": {},
   "outputs": [],
   "source": [
    "from sklearn.feature_selection import SequentialFeatureSelector as SFS"
   ]
  },
  {
   "cell_type": "code",
   "execution_count": 92,
   "id": "f0dad69b",
   "metadata": {},
   "outputs": [],
   "source": [
    "# Forward Selection using SFS from sklearn\n",
    "sfs_forward = SFS(estimator=model,\n",
    "                  n_features_to_select=5,\n",
    "                  direction='forward',\n",
    "                  scoring='accuracy',\n",
    "                  cv=5)\n",
    "sfs_forward = sfs_forward.fit(X, y)"
   ]
  },
  {
   "cell_type": "code",
   "execution_count": 94,
   "id": "9c5c32ec",
   "metadata": {},
   "outputs": [
    {
     "data": {
      "text/plain": [
       "Index(['Pregnancies', 'Glucose', 'Insulin', 'BMI', 'Age'], dtype='object')"
      ]
     },
     "execution_count": 94,
     "metadata": {},
     "output_type": "execute_result"
    }
   ],
   "source": [
    "X.columns[sfs_forward.get_support()==True]"
   ]
  },
  {
   "cell_type": "code",
   "execution_count": 91,
   "id": "8d55a626",
   "metadata": {},
   "outputs": [],
   "source": [
    "# Backward Elimination using SFS from sklearn\n",
    "sfs_backward = SFS(estimator=model,\n",
    "                   n_features_to_select=5, \n",
    "                   direction='backward',\n",
    "                   scoring='accuracy',\n",
    "                   cv=5)\n",
    "sfs_backward = sfs_backward.fit(X, y)"
   ]
  },
  {
   "cell_type": "code",
   "execution_count": 95,
   "id": "970b6908",
   "metadata": {},
   "outputs": [
    {
     "data": {
      "text/plain": [
       "Index(['Pregnancies', 'Glucose', 'BloodPressure', 'BMI', 'Age'], dtype='object')"
      ]
     },
     "execution_count": 95,
     "metadata": {},
     "output_type": "execute_result"
    }
   ],
   "source": [
    "X.columns[sfs_backward.get_support()==True]"
   ]
  },
  {
   "cell_type": "markdown",
   "id": "3f8a50c2",
   "metadata": {},
   "source": [
    "# 3. Embedded Methods\n",
    "Embedded methods incorporate feature selection as part of the model training process and are particularly useful for their ability to capture interactions between features.\n",
    "* LASSO Regression (Least Absolute Shrinkage and Selection Operator)\n",
    "* Feature Importance with Tree-based classifier"
   ]
  },
  {
   "cell_type": "code",
   "execution_count": 40,
   "id": "dd0362ff",
   "metadata": {},
   "outputs": [],
   "source": [
    "from sklearn.linear_model import LassoCV\n",
    "from sklearn.preprocessing import StandardScaler\n",
    "from sklearn.pipeline import Pipeline\n",
    "from sklearn.tree import DecisionTreeClassifier"
   ]
  },
  {
   "cell_type": "markdown",
   "id": "751e82b3",
   "metadata": {},
   "source": [
    "## LASSO Regression\n",
    "* LASSO (Least Absolute Shrinkage and Selection Operator) is a regression analysis method that performs both variable selection and regularization in order to enhance the prediction accuracy and interpretability of the statistical model it produces.\n",
    "* It can help to select the most important features and discard those that are not contributing much to the model.\n",
    "* LASSO modifies the least squares objective function (used in linear regression) by adding a penalty term. \n",
    "* The regularization term penalizes the absolute size of the regression coefficients. By increasing the value of λ, more coefficients are driven to zero, leading to a simpler, more interpretable model.\n",
    "* Due to the nature of the absolute value penalty, LASSO has the ability to shrink some coefficients to exactly zero when λ is sufficiently large. This means that LASSO can effectively remove some features entirely, performing automatic feature selection."
   ]
  },
  {
   "cell_type": "code",
   "execution_count": 41,
   "id": "5966c588",
   "metadata": {},
   "outputs": [
    {
     "data": {
      "text/html": [
       "<style>#sk-container-id-1 {color: black;background-color: white;}#sk-container-id-1 pre{padding: 0;}#sk-container-id-1 div.sk-toggleable {background-color: white;}#sk-container-id-1 label.sk-toggleable__label {cursor: pointer;display: block;width: 100%;margin-bottom: 0;padding: 0.3em;box-sizing: border-box;text-align: center;}#sk-container-id-1 label.sk-toggleable__label-arrow:before {content: \"▸\";float: left;margin-right: 0.25em;color: #696969;}#sk-container-id-1 label.sk-toggleable__label-arrow:hover:before {color: black;}#sk-container-id-1 div.sk-estimator:hover label.sk-toggleable__label-arrow:before {color: black;}#sk-container-id-1 div.sk-toggleable__content {max-height: 0;max-width: 0;overflow: hidden;text-align: left;background-color: #f0f8ff;}#sk-container-id-1 div.sk-toggleable__content pre {margin: 0.2em;color: black;border-radius: 0.25em;background-color: #f0f8ff;}#sk-container-id-1 input.sk-toggleable__control:checked~div.sk-toggleable__content {max-height: 200px;max-width: 100%;overflow: auto;}#sk-container-id-1 input.sk-toggleable__control:checked~label.sk-toggleable__label-arrow:before {content: \"▾\";}#sk-container-id-1 div.sk-estimator input.sk-toggleable__control:checked~label.sk-toggleable__label {background-color: #d4ebff;}#sk-container-id-1 div.sk-label input.sk-toggleable__control:checked~label.sk-toggleable__label {background-color: #d4ebff;}#sk-container-id-1 input.sk-hidden--visually {border: 0;clip: rect(1px 1px 1px 1px);clip: rect(1px, 1px, 1px, 1px);height: 1px;margin: -1px;overflow: hidden;padding: 0;position: absolute;width: 1px;}#sk-container-id-1 div.sk-estimator {font-family: monospace;background-color: #f0f8ff;border: 1px dotted black;border-radius: 0.25em;box-sizing: border-box;margin-bottom: 0.5em;}#sk-container-id-1 div.sk-estimator:hover {background-color: #d4ebff;}#sk-container-id-1 div.sk-parallel-item::after {content: \"\";width: 100%;border-bottom: 1px solid gray;flex-grow: 1;}#sk-container-id-1 div.sk-label:hover label.sk-toggleable__label {background-color: #d4ebff;}#sk-container-id-1 div.sk-serial::before {content: \"\";position: absolute;border-left: 1px solid gray;box-sizing: border-box;top: 0;bottom: 0;left: 50%;z-index: 0;}#sk-container-id-1 div.sk-serial {display: flex;flex-direction: column;align-items: center;background-color: white;padding-right: 0.2em;padding-left: 0.2em;position: relative;}#sk-container-id-1 div.sk-item {position: relative;z-index: 1;}#sk-container-id-1 div.sk-parallel {display: flex;align-items: stretch;justify-content: center;background-color: white;position: relative;}#sk-container-id-1 div.sk-item::before, #sk-container-id-1 div.sk-parallel-item::before {content: \"\";position: absolute;border-left: 1px solid gray;box-sizing: border-box;top: 0;bottom: 0;left: 50%;z-index: -1;}#sk-container-id-1 div.sk-parallel-item {display: flex;flex-direction: column;z-index: 1;position: relative;background-color: white;}#sk-container-id-1 div.sk-parallel-item:first-child::after {align-self: flex-end;width: 50%;}#sk-container-id-1 div.sk-parallel-item:last-child::after {align-self: flex-start;width: 50%;}#sk-container-id-1 div.sk-parallel-item:only-child::after {width: 0;}#sk-container-id-1 div.sk-dashed-wrapped {border: 1px dashed gray;margin: 0 0.4em 0.5em 0.4em;box-sizing: border-box;padding-bottom: 0.4em;background-color: white;}#sk-container-id-1 div.sk-label label {font-family: monospace;font-weight: bold;display: inline-block;line-height: 1.2em;}#sk-container-id-1 div.sk-label-container {text-align: center;}#sk-container-id-1 div.sk-container {/* jupyter's `normalize.less` sets `[hidden] { display: none; }` but bootstrap.min.css set `[hidden] { display: none !important; }` so we also need the `!important` here to be able to override the default hidden behavior on the sphinx rendered scikit-learn.org. See: https://github.com/scikit-learn/scikit-learn/issues/21755 */display: inline-block !important;position: relative;}#sk-container-id-1 div.sk-text-repr-fallback {display: none;}</style><div id=\"sk-container-id-1\" class=\"sk-top-container\"><div class=\"sk-text-repr-fallback\"><pre>Pipeline(steps=[(&#x27;scaler&#x27;, StandardScaler()),\n",
       "                (&#x27;lasso&#x27;, LassoCV(cv=5, random_state=0))])</pre><b>In a Jupyter environment, please rerun this cell to show the HTML representation or trust the notebook. <br />On GitHub, the HTML representation is unable to render, please try loading this page with nbviewer.org.</b></div><div class=\"sk-container\" hidden><div class=\"sk-item sk-dashed-wrapped\"><div class=\"sk-label-container\"><div class=\"sk-label sk-toggleable\"><input class=\"sk-toggleable__control sk-hidden--visually\" id=\"sk-estimator-id-1\" type=\"checkbox\" ><label for=\"sk-estimator-id-1\" class=\"sk-toggleable__label sk-toggleable__label-arrow\">Pipeline</label><div class=\"sk-toggleable__content\"><pre>Pipeline(steps=[(&#x27;scaler&#x27;, StandardScaler()),\n",
       "                (&#x27;lasso&#x27;, LassoCV(cv=5, random_state=0))])</pre></div></div></div><div class=\"sk-serial\"><div class=\"sk-item\"><div class=\"sk-estimator sk-toggleable\"><input class=\"sk-toggleable__control sk-hidden--visually\" id=\"sk-estimator-id-2\" type=\"checkbox\" ><label for=\"sk-estimator-id-2\" class=\"sk-toggleable__label sk-toggleable__label-arrow\">StandardScaler</label><div class=\"sk-toggleable__content\"><pre>StandardScaler()</pre></div></div></div><div class=\"sk-item\"><div class=\"sk-estimator sk-toggleable\"><input class=\"sk-toggleable__control sk-hidden--visually\" id=\"sk-estimator-id-3\" type=\"checkbox\" ><label for=\"sk-estimator-id-3\" class=\"sk-toggleable__label sk-toggleable__label-arrow\">LassoCV</label><div class=\"sk-toggleable__content\"><pre>LassoCV(cv=5, random_state=0)</pre></div></div></div></div></div></div></div>"
      ],
      "text/plain": [
       "Pipeline(steps=[('scaler', StandardScaler()),\n",
       "                ('lasso', LassoCV(cv=5, random_state=0))])"
      ]
     },
     "execution_count": 41,
     "metadata": {},
     "output_type": "execute_result"
    }
   ],
   "source": [
    "# Scaling features for LASSO\n",
    "scaler = StandardScaler()\n",
    "\n",
    "# LASSO Regression with cross-validation\n",
    "lasso = LassoCV(cv=5, random_state=0)\n",
    "lasso_pipeline = Pipeline([('scaler', scaler), ('lasso', lasso)])\n",
    "lasso_pipeline.fit(X, y)"
   ]
  },
  {
   "cell_type": "code",
   "execution_count": 44,
   "id": "8f33948d",
   "metadata": {},
   "outputs": [],
   "source": [
    "# Extracting coefficients and filtering out non-zero coefficients\n",
    "lasso_coef = lasso.coef_\n",
    "lasso_features = [feature for feature, coef in zip(X.columns, lasso_coef) if coef != 0]"
   ]
  },
  {
   "cell_type": "code",
   "execution_count": 47,
   "id": "6fb28ed6",
   "metadata": {},
   "outputs": [
    {
     "name": "stdout",
     "output_type": "stream",
     "text": [
      "Lasso picked 5 variables and eliminated the other 3 variables\n"
     ]
    }
   ],
   "source": [
    "print(\"Lasso picked \" + str(sum(lasso_coef != 0)) + \" variables and eliminated the other \" +  str(sum(lasso_coef == 0)) + \" variables\")"
   ]
  },
  {
   "cell_type": "code",
   "execution_count": 48,
   "id": "2b27ab95",
   "metadata": {},
   "outputs": [
    {
     "name": "stdout",
     "output_type": "stream",
     "text": [
      "The selected features are: ['Pregnancies', 'Glucose', 'BMI', 'DiabetesPedigreeFunction', 'Age']\n"
     ]
    }
   ],
   "source": [
    "print(\"The selected features are:\",lasso_features)"
   ]
  },
  {
   "cell_type": "markdown",
   "id": "6235becb",
   "metadata": {},
   "source": [
    "## Feature Importance with Tree-based Classifiers\n",
    "* Feature importance in machine learning is a technique used to identify the relative importance or contribution of each feature (or variable) in a predictive model. \n",
    "* This concept is particularly common in tree-based models like decision trees, random forests, and gradient boosting machines."
   ]
  },
  {
   "cell_type": "code",
   "execution_count": 49,
   "id": "2998afc9",
   "metadata": {},
   "outputs": [
    {
     "name": "stdout",
     "output_type": "stream",
     "text": [
      "Feature ranking:\n",
      "1. Feature Glucose (0.259948)\n",
      "2. Feature BMI (0.163281)\n",
      "3. Feature Age (0.134855)\n",
      "4. Feature DiabetesPedigreeFunction (0.117749)\n",
      "5. Feature Insulin (0.086114)\n",
      "6. Feature BloodPressure (0.082800)\n",
      "7. Feature Pregnancies (0.081172)\n",
      "8. Feature SkinThickness (0.074082)\n"
     ]
    }
   ],
   "source": [
    "from sklearn.ensemble import RandomForestClassifier\n",
    "\n",
    "model = RandomForestClassifier()\n",
    "model.fit(X, y)\n",
    "importances = model.feature_importances_\n",
    "indices = np.argsort(importances)[::-1]\n",
    "print(\"Feature ranking:\")\n",
    "\n",
    "for f in range(X.shape[1]):\n",
    "    print(\"%d. Feature %s (%f)\" % (f + 1, X.columns[indices[f]], importances[indices[f]]))"
   ]
  },
  {
   "cell_type": "code",
   "execution_count": 51,
   "id": "b123c238",
   "metadata": {},
   "outputs": [
    {
     "name": "stdout",
     "output_type": "stream",
     "text": [
      "1. Feature Glucose (0.329543)\n",
      "2. Feature BMI (0.190761)\n",
      "3. Feature DiabetesPedigreeFunction (0.113928)\n",
      "4. Feature Age (0.107195)\n",
      "5. Feature BloodPressure (0.103919)\n",
      "6. Feature Insulin (0.072111)\n",
      "7. Feature Pregnancies (0.062575)\n",
      "8. Feature SkinThickness (0.019966)\n"
     ]
    }
   ],
   "source": [
    "# Decision Tree Classifier for feature importance\n",
    "dtree = DecisionTreeClassifier(random_state=0)\n",
    "dtree.fit(X, y)\n",
    "\n",
    "# Extracting feature importances\n",
    "dtree_importances = dtree.feature_importances_\n",
    "indices = np.argsort(dtree_importances)[::-1]\n",
    "for f in range(X.shape[1]):\n",
    "    print(\"%d. Feature %s (%f)\" % (f + 1, X.columns[indices[f]], dtree_importances[indices[f]]))"
   ]
  },
  {
   "cell_type": "markdown",
   "id": "ca4c2306",
   "metadata": {},
   "source": [
    "# SelectfromModel \n",
    "*  It is a meta-transformer in scikit-learn that selects features based on the importance weights of a given model."
   ]
  },
  {
   "cell_type": "code",
   "execution_count": 102,
   "id": "5fa428b3",
   "metadata": {},
   "outputs": [],
   "source": [
    "from sklearn.feature_selection import SelectFromModel\n",
    "from sklearn.ensemble import RandomForestClassifier"
   ]
  },
  {
   "cell_type": "code",
   "execution_count": 103,
   "id": "324dcf50",
   "metadata": {},
   "outputs": [
    {
     "data": {
      "text/plain": [
       "Index(['Glucose', 'BMI', 'DiabetesPedigreeFunction', 'Age'], dtype='object')"
      ]
     },
     "execution_count": 103,
     "metadata": {},
     "output_type": "execute_result"
    }
   ],
   "source": [
    "# Random Forest Classifier for feature selection\n",
    "random_forest = RandomForestClassifier(n_estimators=100, random_state=0)\n",
    "selector_rf = SelectFromModel(random_forest)\n",
    "selector_rf.fit(X, y)\n",
    "\n",
    "selected_features_rf = X.columns[(selector_rf.get_support())]\n",
    "selected_features_rf"
   ]
  }
 ],
 "metadata": {
  "kernelspec": {
   "display_name": "Python 3 (ipykernel)",
   "language": "python",
   "name": "python3"
  },
  "language_info": {
   "codemirror_mode": {
    "name": "ipython",
    "version": 3
   },
   "file_extension": ".py",
   "mimetype": "text/x-python",
   "name": "python",
   "nbconvert_exporter": "python",
   "pygments_lexer": "ipython3",
   "version": "3.11.3"
  }
 },
 "nbformat": 4,
 "nbformat_minor": 5
}
